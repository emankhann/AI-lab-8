{
 "cells": [
  {
   "cell_type": "code",
   "execution_count": 1,
   "id": "7df08203-5b86-4887-a717-dba62707a0d8",
   "metadata": {},
   "outputs": [
    {
     "ename": "SyntaxError",
     "evalue": "invalid syntax (1028084822.py, line 1)",
     "output_type": "error",
     "traceback": [
      "\u001b[1;36m  Cell \u001b[1;32mIn[1], line 1\u001b[1;36m\u001b[0m\n\u001b[1;33m    import pandas as pd from surprise import Dataset, Reader from surprise import KNNWithMeans\u001b[0m\n\u001b[1;37m                        ^\u001b[0m\n\u001b[1;31mSyntaxError\u001b[0m\u001b[1;31m:\u001b[0m invalid syntax\n"
     ]
    }
   ],
   "source": [
    "import pandas as pd from surprise import Dataset, Reader from surprise import KNNWithMeans\n",
    "ratings_dict = { \n",
    "\"item\": [1, 2, 1, 2, 1, 2, 1, 2, 1], \n",
    "\"user\": ['A', 'A', 'B', 'B', 'C', 'C', 'D', 'D', 'E'], \n",
    "\"rating\": [1, 2, 2, 4, 2.5, 4, 4.5, 5, 3], } \n",
    "df = pd.DataFrame(ratings_dict) \n",
    "reader = Reader(rating_scale=(1, 5))\n",
    " data = Dataset.load_from_df(df[[\"user\", \"item\", \"rating\"]], reader)\n",
    "sim_options = { \"name\": \"cosine\",\n",
    " \"user_based\": False,\n",
    "}\n",
    "algo = KNNWithMeans(sim_options=sim_options) \n",
    "trainingSet = data.build_full_trainset() algo.fit(trainingSet)\n",
    "def recommend_movies(user_id, all_items, algo): \n",
    "recommendations = [] for item_id in all_items: \n",
    "prediction = algo.predict(user_id, item_id) recommendations.append((item_id, prediction.est))\n",
    "recommendations.sort(key=lambda x: x[1], reverse=True)\n",
    "\n",
    "return recommendations\n",
    "all_items = df[\"item\"].unique()\n",
    "user_id = 'E' recommendations = recommend_movies(user_id, all_items, algo)\n",
    "print(f\"Recommended movies for user {user_id}:\")\n",
    " for item_id, predicted_rating in recommendations:\n",
    " print(f\"Movie {item_id}: Predicted Rating {predicted_rating:.2f}\")\n"
   ]
  },
  {
   "cell_type": "code",
   "execution_count": null,
   "id": "8eb7a384-a0c8-4e7d-aca6-53d36632912c",
   "metadata": {},
   "outputs": [],
   "source": []
  }
 ],
 "metadata": {
  "kernelspec": {
   "display_name": "Python 3 (ipykernel)",
   "language": "python",
   "name": "python3"
  },
  "language_info": {
   "codemirror_mode": {
    "name": "ipython",
    "version": 3
   },
   "file_extension": ".py",
   "mimetype": "text/x-python",
   "name": "python",
   "nbconvert_exporter": "python",
   "pygments_lexer": "ipython3",
   "version": "3.12.3"
  }
 },
 "nbformat": 4,
 "nbformat_minor": 5
}
