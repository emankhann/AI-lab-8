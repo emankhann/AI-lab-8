{
 "cells": [
  {
   "cell_type": "code",
   "execution_count": null,
   "id": "64e0e320-e7ff-417c-996d-6fa8557bec5b",
   "metadata": {},
   "outputs": [],
   "source": []
  }
 ],
 "metadata": {
  "kernelspec": {
   "display_name": "",
   "name": ""
  },
  "language_info": {
   "name": ""
  }
 },
 "nbformat": 4,
 "nbformat_minor": 5
}
